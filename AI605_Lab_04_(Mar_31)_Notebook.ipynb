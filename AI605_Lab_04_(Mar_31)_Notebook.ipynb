{
  "nbformat": 4,
  "nbformat_minor": 0,
  "metadata": {
    "colab": {
      "name": "AI605 Lab 04 (Mar 31) Notebook.ipynb",
      "provenance": [],
      "collapsed_sections": []
    },
    "kernelspec": {
      "name": "python3",
      "display_name": "Python 3"
    },
    "language_info": {
      "name": "python"
    }
  },
  "cells": [
    {
      "cell_type": "code",
      "execution_count": null,
      "metadata": {
        "id": "DMCEkQ-ipcc3"
      },
      "outputs": [],
      "source": [
        "# Objective 1: Define start and end probability distributions from LSTM outputs for an MRC model\n",
        "\n",
        "import torch\n",
        "from torch.nn import Linear, Softmax\n",
        "\n",
        "torch.manual_seed(605)\n",
        "\n",
        "batch_size = 2\n",
        "seq_len = 8\n",
        "hidden_size = 32\n",
        "\n",
        "layer = Linear(hidden_size, 2)\n",
        "softmax = Softmax(-1)\n",
        "\n",
        "lstm_outputs = torch.randn(batch_size, seq_len, hidden_size)\n",
        "\n",
        "start_logits, end_logits = layer(lstm_outputs).chunk(2, dim=-1)\n",
        "start_prob = None # YOUR CODE GOES HERE\n",
        "end_prob = None # YOUR CODE GOES HERE\n",
        "assert (start_prob[0, 0] * end_prob[0, 7] - 0.0139).abs() < 0.001 # probability that the answer is the entire sequence"
      ]
    },
    {
      "cell_type": "code",
      "source": [
        "# Objective 2: Be able to compute cosine similarity\n",
        "\n",
        "import torch\n",
        "\n",
        "torch.manual_seed(605)\n",
        "\n",
        "hidden_size = 32\n",
        "num_a = 4\n",
        "num_b = 8\n",
        "a = torch.randn(num_a, hidden_size)\n",
        "b = torch.randn(num_b, hidden_size)\n",
        "\n",
        "# output should be of size [num_a, num_b] \n",
        "def cosine_similarity(a, b):\n",
        "  return None # YOUR CODE GOES HERE\n",
        "\n",
        "assert (cosine_similarity(a, b)[0, 0] + 0.3874).abs() < 0.001"
      ],
      "metadata": {
        "id": "J-jb6Ft9uHYH"
      },
      "execution_count": null,
      "outputs": []
    },
    {
      "cell_type": "code",
      "source": [
        "# Objective 3: Given a list of documents, be able to define TF-IDF vectors\n",
        "\n",
        "import torch\n",
        "\n",
        "torch.manual_seed(605)\n",
        "\n",
        "num_docs = 32\n",
        "vocab_size = 64\n",
        "\n",
        "# Given\n",
        "documents_tf = (torch.rand(num_docs, vocab_size) * 10).round() # term frequency of documents, in the range of 0 to 10\n",
        "query_tf = (torch.rand(1, vocab_size) * 3).round()\n",
        "\n",
        "# Compute tf-idf\n",
        "df = None # YOUR CODE GOES HERE\n",
        "idf = torch.log(torch.tensor(documents_tf.size(0))) - df.log()\n",
        "documents_tfidf = None # YOUR CODE GOES HERE\n",
        "query_tfidf = None # YOUR CODE GOES HERE\n",
        "scores = cosine_similarity(query_tfidf, documents_tfidf)\n",
        "values, indices = scores.max(dim=1)\n",
        "assert indices[0] == 31"
      ],
      "metadata": {
        "id": "TMIN5sSKvhR1",
        "colab": {
          "base_uri": "https://localhost:8080/",
          "height": 258
        },
        "outputId": "186768c9-6460-4b0f-f0d3-efac3f4bd8b2"
      },
      "execution_count": null,
      "outputs": [
        {
          "output_type": "stream",
          "name": "stdout",
          "text": [
            "tensor([6., 3., 1., 2., 9., 3., 8., 6., 9., 9.])\n"
          ]
        },
        {
          "output_type": "error",
          "ename": "AttributeError",
          "evalue": "ignored",
          "traceback": [
            "\u001b[0;31m---------------------------------------------------------------------------\u001b[0m",
            "\u001b[0;31mAttributeError\u001b[0m                            Traceback (most recent call last)",
            "\u001b[0;32m<ipython-input-3-067034af0c10>\u001b[0m in \u001b[0;36m<module>\u001b[0;34m()\u001b[0m\n\u001b[1;32m     15\u001b[0m \u001b[0;31m# Compute tf-idf\u001b[0m\u001b[0;34m\u001b[0m\u001b[0;34m\u001b[0m\u001b[0;34m\u001b[0m\u001b[0m\n\u001b[1;32m     16\u001b[0m \u001b[0mdf\u001b[0m \u001b[0;34m=\u001b[0m \u001b[0;32mNone\u001b[0m \u001b[0;31m# YOUR CODE GOES HERE\u001b[0m\u001b[0;34m\u001b[0m\u001b[0;34m\u001b[0m\u001b[0m\n\u001b[0;32m---> 17\u001b[0;31m \u001b[0midf\u001b[0m \u001b[0;34m=\u001b[0m \u001b[0mtorch\u001b[0m\u001b[0;34m.\u001b[0m\u001b[0mlog\u001b[0m\u001b[0;34m(\u001b[0m\u001b[0mtorch\u001b[0m\u001b[0;34m.\u001b[0m\u001b[0mtensor\u001b[0m\u001b[0;34m(\u001b[0m\u001b[0mdocuments_tf\u001b[0m\u001b[0;34m.\u001b[0m\u001b[0msize\u001b[0m\u001b[0;34m(\u001b[0m\u001b[0;36m0\u001b[0m\u001b[0;34m)\u001b[0m\u001b[0;34m)\u001b[0m\u001b[0;34m)\u001b[0m \u001b[0;34m-\u001b[0m \u001b[0mdf\u001b[0m\u001b[0;34m.\u001b[0m\u001b[0mlog\u001b[0m\u001b[0;34m(\u001b[0m\u001b[0;34m)\u001b[0m\u001b[0;34m\u001b[0m\u001b[0;34m\u001b[0m\u001b[0m\n\u001b[0m\u001b[1;32m     18\u001b[0m \u001b[0mdocuments_tfidf\u001b[0m \u001b[0;34m=\u001b[0m \u001b[0;32mNone\u001b[0m \u001b[0;31m# YOUR CODE GOES HERE\u001b[0m\u001b[0;34m\u001b[0m\u001b[0;34m\u001b[0m\u001b[0m\n\u001b[1;32m     19\u001b[0m \u001b[0mquery_tfidf\u001b[0m \u001b[0;34m=\u001b[0m \u001b[0;32mNone\u001b[0m \u001b[0;31m# YOUR CODE GOES HERE\u001b[0m\u001b[0;34m\u001b[0m\u001b[0;34m\u001b[0m\u001b[0m\n",
            "\u001b[0;31mAttributeError\u001b[0m: 'NoneType' object has no attribute 'log'"
          ]
        }
      ]
    },
    {
      "cell_type": "code",
      "source": [
        ""
      ],
      "metadata": {
        "id": "28A6i6z7wK7k"
      },
      "execution_count": null,
      "outputs": []
    }
  ]
}